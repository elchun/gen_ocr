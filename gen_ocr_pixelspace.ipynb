{
 "cells": [
  {
   "cell_type": "markdown",
   "metadata": {},
   "source": [
    "# Solving \"MNIST\" With Gen\n",
    "We model the data generating process as follows:\n",
    "1. Choose a number from 0 to 9 with uniform probability.\n",
    "2. For exam number, set the sampling probabilities for a grid of 9 by 9 pixels.\n",
    "3. Sample each pixel from a bernoulli distribution with the corresponding probability."
   ]
  },
  {
   "cell_type": "code",
   "execution_count": 1,
   "metadata": {},
   "outputs": [],
   "source": [
    "using Gen\n",
    "using Plots\n",
    "using Printf"
   ]
  },
  {
   "cell_type": "markdown",
   "metadata": {},
   "source": [
    "### Define prior distributions\n",
    "\n",
    "We encode the prior knowledge as a set of matricies."
   ]
  },
  {
   "cell_type": "code",
   "execution_count": 2,
   "metadata": {},
   "outputs": [
    {
     "data": {
      "text/plain": [
       "get_probs (generic function with 1 method)"
      ]
     },
     "metadata": {},
     "output_type": "display_data"
    }
   ],
   "source": [
    "\n",
    "function get_probs(number)\n",
    "    # We generate image distributions based on the\n",
    "    # provide number.  The number must be between 0 and 9.\n",
    "    if number == 0\n",
    "        template = [1 1 1 1 1 1 1 1 1;\n",
    "                    1 0 0 0 0 0 0 0 1;\n",
    "                    1 0 0 0 0 0 0 0 1;\n",
    "                    1 0 0 0 0 0 0 0 1;\n",
    "                    1 0 0 0 0 0 0 0 1;\n",
    "                    1 0 0 0 0 0 0 0 1;\n",
    "                    1 0 0 0 0 0 0 0 1;\n",
    "                    1 0 0 0 0 0 0 0 1;\n",
    "                    1 1 1 1 1 1 1 1 1]\n",
    "    elseif number == 1\n",
    "        template = [0 0 0 0 0 0 0 0 1;\n",
    "                    0 0 0 0 0 0 0 0 1;\n",
    "                    0 0 0 0 0 0 0 0 1;\n",
    "                    0 0 0 0 0 0 0 0 1;\n",
    "                    0 0 0 0 0 0 0 0 1;\n",
    "                    0 0 0 0 0 0 0 0 1;\n",
    "                    0 0 0 0 0 0 0 0 1;\n",
    "                    0 0 0 0 0 0 0 0 1;\n",
    "                    0 0 0 0 0 0 0 0 1;]\n",
    "    elseif number == 2\n",
    "        template = [1 1 1 1 1 1 1 1 1;\n",
    "                    0 0 0 0 0 0 0 0 1;\n",
    "                    0 0 0 0 0 0 0 0 1;\n",
    "                    0 0 0 0 0 0 0 0 1;\n",
    "                    1 1 1 1 1 1 1 1 1;\n",
    "                    1 0 0 0 0 0 0 0 0;\n",
    "                    1 0 0 0 0 0 0 0 0;\n",
    "                    1 0 0 0 0 0 0 0 0;\n",
    "                    1 1 1 1 1 1 1 1 1;]\n",
    "    elseif number == 3\n",
    "        template = [1 1 1 1 1 1 1 1 1;\n",
    "                    0 0 0 0 0 0 0 0 1;\n",
    "                    0 0 0 0 0 0 0 0 1;\n",
    "                    0 0 0 0 0 0 0 0 1;\n",
    "                    1 1 1 1 1 1 1 1 1;\n",
    "                    0 0 0 0 0 0 0 0 1;\n",
    "                    0 0 0 0 0 0 0 0 1;\n",
    "                    0 0 0 0 0 0 0 0 1;\n",
    "                    1 1 1 1 1 1 1 1 1;]\n",
    "    elseif number == 4\n",
    "        template = [1 0 0 0 0 0 0 0 1;\n",
    "                    1 0 0 0 0 0 0 0 1;\n",
    "                    1 0 0 0 0 0 0 0 1;\n",
    "                    1 0 0 0 0 0 0 0 1;\n",
    "                    1 1 1 1 1 1 1 1 1;\n",
    "                    0 0 0 0 0 0 0 0 1;\n",
    "                    0 0 0 0 0 0 0 0 1;\n",
    "                    0 0 0 0 0 0 0 0 1;\n",
    "                    0 0 0 0 0 0 0 0 1;]\n",
    "    elseif number == 5\n",
    "        template = [1 1 1 1 1 1 1 1 1;\n",
    "                    1 0 0 0 0 0 0 0 0;\n",
    "                    1 0 0 0 0 0 0 0 0;\n",
    "                    1 0 0 0 0 0 0 0 0;\n",
    "                    1 1 1 1 1 1 1 1 1;\n",
    "                    0 0 0 0 0 0 0 0 1;\n",
    "                    0 0 0 0 0 0 0 0 1;\n",
    "                    0 0 0 0 0 0 0 0 1;\n",
    "                    1 1 1 1 1 1 1 1 1;]\n",
    "    elseif number == 6\n",
    "        template = [1 1 1 1 1 1 1 1 1;\n",
    "                    1 0 0 0 0 0 0 0 0;\n",
    "                    1 0 0 0 0 0 0 0 0;\n",
    "                    1 0 0 0 0 0 0 0 0;\n",
    "                    1 1 1 1 1 1 1 1 1;\n",
    "                    1 0 0 0 0 0 0 0 1;\n",
    "                    1 0 0 0 0 0 0 0 1;\n",
    "                    1 0 0 0 0 0 0 0 1;\n",
    "                    1 1 1 1 1 1 1 1 1;]\n",
    "    elseif number == 7\n",
    "        template = [1 1 1 1 1 1 1 1 1;\n",
    "                    0 0 0 0 0 0 0 0 1;\n",
    "                    0 0 0 0 0 0 0 0 1;\n",
    "                    0 0 0 0 0 0 0 0 1;\n",
    "                    0 0 0 0 0 0 0 0 1;\n",
    "                    0 0 0 0 0 0 0 0 1;\n",
    "                    0 0 0 0 0 0 0 0 1;\n",
    "                    0 0 0 0 0 0 0 0 1;\n",
    "                    0 0 0 0 0 0 0 0 1;]\n",
    "    elseif number == 8\n",
    "        template = [1 1 1 1 1 1 1 1 1;\n",
    "                    1 0 0 0 0 0 0 0 1;\n",
    "                    1 0 0 0 0 0 0 0 1;\n",
    "                    1 0 0 0 0 0 0 0 1;\n",
    "                    1 1 1 1 1 1 1 1 1;\n",
    "                    1 0 0 0 0 0 0 0 1;\n",
    "                    1 0 0 0 0 0 0 0 1;\n",
    "                    1 0 0 0 0 0 0 0 1;\n",
    "                    1 1 1 1 1 1 1 1 1;]\n",
    "    elseif number == 9\n",
    "        template = [1 1 1 1 1 1 1 1 1;\n",
    "                    1 0 0 0 0 0 0 0 1;\n",
    "                    1 0 0 0 0 0 0 0 1;\n",
    "                    1 0 0 0 0 0 0 0 1;\n",
    "                    1 1 1 1 1 1 1 1 1;\n",
    "                    0 0 0 0 0 0 0 0 1;\n",
    "                    0 0 0 0 0 0 0 0 1;\n",
    "                    0 0 0 0 0 0 0 0 1;\n",
    "                    1 1 1 1 1 1 1 1 1;]\n",
    "    else\n",
    "        throw(ArgumentError(\"Number must be between 0 and 9\"))\n",
    "    end\n",
    "\n",
    "    occupied_prob = 0.97\n",
    "    unoccupied_prob = 0.03\n",
    "    probs = template * occupied_prob + (1 .- template) * unoccupied_prob\n",
    "    return probs\n",
    "end"
   ]
  },
  {
   "cell_type": "markdown",
   "metadata": {},
   "source": [
    "### Define the model\n",
    "Here, we render each pixel as a bernoulli random variable with the corresponding probability."
   ]
  },
  {
   "cell_type": "code",
   "execution_count": 3,
   "metadata": {},
   "outputs": [],
   "source": [
    "@gen function number_model()\n",
    "    # We generate a number by first choosing a number between 0 and 9\n",
    "    # uniformly at random, and then generating an image of that number\n",
    "    # using the get_probs function.\n",
    "\n",
    "    function render_number(probs)\n",
    "        # We render the number by sampling from a Bernoulli distribution\n",
    "        # for each pixel in the image.\n",
    "        rows, cols = size(probs)\n",
    "        image = zeros(rows, cols)\n",
    "        for i in 1:rows\n",
    "            for j in 1:cols\n",
    "                # We encode the noise probability as prob of 1 or 0\n",
    "                # Maybe we should add a prob outlier here too?\n",
    "                image[i, j] = ({(:image, i, j)} ~ bernoulli(probs[i, j]))\n",
    "            end\n",
    "        end\n",
    "        return image\n",
    "    end\n",
    "\n",
    "    number = ({:number} ~ uniform_discrete(0, 9))\n",
    "    probs = get_probs(number)\n",
    "    image = render_number(probs)\n",
    "\n",
    "    return number, image\n",
    "end\n",
    "\n",
    "function render_number(number_matrix)\n",
    "    rows, cols = size(number_matrix)\n",
    "    for i in 1:rows\n",
    "        for j in 1:cols\n",
    "            @printf(\"%c \", (number_matrix[i, j] > 0.5) ? '#' : ' ')\n",
    "        end\n",
    "        println()\n",
    "    end\n",
    "end;\n",
    "\n",
    "function render_all_numbers()\n",
    "    spacing = 11\n",
    "    width = 5\n",
    "    height = 2\n",
    "    final_matrix = zeros(height * spacing, width * spacing)\n",
    "\n",
    "    for i in 0:9\n",
    "        start_x = spacing * (i % width) + 2\n",
    "        start_y = spacing * (i ÷ width) + 2\n",
    "        end_x = start_x + spacing - 3\n",
    "        end_y = start_y + spacing - 3\n",
    "\n",
    "        digit = get_probs(i)\n",
    "\n",
    "        constraints = Gen.choicemap()\n",
    "        constraints[:number] = i\n",
    "        obs_trace, _ = Gen.generate(number_model, (), constraints)\n",
    "        image = Gen.get_retval(obs_trace)[2]\n",
    "\n",
    "        final_matrix[start_y : end_y, start_x : end_x] = image\n",
    "\n",
    "    end\n",
    "    render_number(final_matrix)\n",
    "end;"
   ]
  },
  {
   "cell_type": "markdown",
   "metadata": {},
   "source": [
    "### Visualize Data"
   ]
  },
  {
   "cell_type": "code",
   "execution_count": 4,
   "metadata": {},
   "outputs": [
    {
     "name": "stdout",
     "output_type": "stream",
     "text": [
      "Number: 5\n",
      "# # # # # # # # # \n",
      "#                 \n",
      "#                 \n",
      "#   #             \n",
      "# # #   # # # # # \n",
      "                # \n",
      "                # \n",
      "                # \n",
      "# # # # # # # # # \n"
     ]
    }
   ],
   "source": [
    "# Here, we can simulate a random number\n",
    "trace  = Gen.simulate(number_model, ())\n",
    "println(\"Number: \", trace[:number])\n",
    "render_number(Gen.get_retval(trace)[2])"
   ]
  },
  {
   "cell_type": "code",
   "execution_count": 5,
   "metadata": {},
   "outputs": [
    {
     "name": "stdout",
     "output_type": "stream",
     "text": [
      "                                                                                                              \n",
      "  # # # # # # # # #                     #     # # # # # # # #       # # # # # # # # #     #       #       #   \n",
      "  #               #                     #                     #                     #     #               #   \n",
      "  #               #                     #                     #                     #     #               #   \n",
      "  #     #         #                     #                     #                     #     #               #   \n",
      "  # #             #                     #     # # # # # # #   #     # # # #   # # # #     # # #   # # # # #   \n",
      "  #               #                     #     #                                     #                     #   \n",
      "  #               #                     #     # #                                   #                     #   \n",
      "  #               #                     #     #           #                         #                     #   \n",
      "  # # # # # # # # #                     #     # # # # # # # # #     # # # # # # # # #             #       #   \n",
      "                                                                                                              \n",
      "                                                                                                              \n",
      "  #   # #   # # # #     # # # # # # # # #     # # # # # # # # #     # # # # # # # # #     # #   # # # # # #   \n",
      "  #                     #                                     #     #               #     #               #   \n",
      "  #                     #         #                           #     #               #     #       #           \n",
      "  #                     #                                     #     #               #     #   #       #   #   \n",
      "  # # # # # # # # #     # #   # #   # # #     #               #     # # # # # # # # #     # # # # # # # # #   \n",
      "                  #       #             #                     #     #               #                     #   \n",
      "                  #     #           #   #                 #   #     #               #                         \n",
      "                  #     #               #                     #     #           #   #                     #   \n",
      "  # # # # #   # # #     # # # # # # # # #           #       # #     # # # # # # # # #     # # # # # # # # #   \n",
      "                                                                                                              \n"
     ]
    }
   ],
   "source": [
    "# We can also render all numbers\n",
    "render_all_numbers()"
   ]
  },
  {
   "cell_type": "markdown",
   "metadata": {},
   "source": [
    "### Do inference\n",
    "\n",
    "We can define an inference step to use importance sampling."
   ]
  },
  {
   "cell_type": "code",
   "execution_count": 6,
   "metadata": {},
   "outputs": [],
   "source": [
    "function do_inference(model, obs_number, amount_of_computation)\n",
    "    rows, cols = size(obs_number)\n",
    "\n",
    "    observations = Gen.choicemap()\n",
    "    # Create the choice map\n",
    "    for i in 1:rows\n",
    "        for j in 1:cols\n",
    "            observations[(:data, i, j)] = obs_number[i, j]\n",
    "        end\n",
    "    end\n",
    "\n",
    "    # Call importance_resampling to obtain a likely trace consistent\n",
    "    # with our observations.\n",
    "    observations[(:number)] = 2\n",
    "    (trace, _) = Gen.importance_resampling(model, (), observations, amount_of_computation);\n",
    "    return trace\n",
    "end;"
   ]
  },
  {
   "cell_type": "markdown",
   "metadata": {},
   "source": [
    "Here, we attempt to infer the number given observations.  Note that this\n",
    "does not work!\n"
   ]
  },
  {
   "cell_type": "code",
   "execution_count": 7,
   "metadata": {},
   "outputs": [
    {
     "name": "stdout",
     "output_type": "stream",
     "text": [
      "Number: 3\n",
      "# # # # # # # # # \n",
      "                # \n",
      "                # \n",
      "                # \n",
      "# # # # # # # # # \n",
      "                # \n",
      "    #           # \n",
      "                  \n",
      "# # # # # # # # # \n",
      "Infered  number"
     ]
    },
    {
     "name": "stdout",
     "output_type": "stream",
     "text": [
      "\n",
      "Number: 2\n",
      "# # # # # #   # # \n",
      "                # \n",
      "                # \n",
      "            #   # \n",
      "# # # # # # # # # \n",
      "#                 \n",
      "                  \n",
      "#                 \n",
      "# # # # # # # # # \n"
     ]
    }
   ],
   "source": [
    "constraints = Gen.choicemap()\n",
    "constraints[:number] = 3\n",
    "obs_trace, _ = Gen.generate(number_model, (), constraints)\n",
    "image = Gen.get_retval(obs_trace)[2]\n",
    "println(\"Number: \", obs_trace[:number])\n",
    "render_number(image)\n",
    "\n",
    "trace = do_inference(number_model, image, 10000)\n",
    "println(\"Infered  number\")\n",
    "println(\"Number: \", trace[:number])\n",
    "render_number(Gen.get_retval(trace)[2])\n"
   ]
  }
 ],
 "metadata": {
  "kernelspec": {
   "display_name": "Julia 1.9.4",
   "language": "julia",
   "name": "julia-1.9"
  },
  "language_info": {
   "file_extension": ".jl",
   "mimetype": "application/julia",
   "name": "julia",
   "version": "1.9.4"
  }
 },
 "nbformat": 4,
 "nbformat_minor": 2
}
